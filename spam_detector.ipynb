{
 "cells": [
  {
   "cell_type": "code",
   "execution_count": null,
   "metadata": {},
   "outputs": [],
   "source": [
    "import pandas as pd\n",
    "import numpy as np\n"
   ]
  },
  {
   "cell_type": "code",
   "execution_count": null,
   "metadata": {},
   "outputs": [],
   "source": [
    "data=pd.read_csv(\"spam_data_set.csv\", encoding=\"latin-1\")"
   ]
  },
  {
   "cell_type": "code",
   "execution_count": null,
   "metadata": {},
   "outputs": [],
   "source": [
    "data.head()"
   ]
  },
  {
   "cell_type": "code",
   "execution_count": null,
   "metadata": {},
   "outputs": [],
   "source": [
    "data.columns"
   ]
  },
  {
   "cell_type": "code",
   "execution_count": null,
   "metadata": {},
   "outputs": [],
   "source": [
    "#data.drop(['Unnamed: 2', 'Unnamed: 3', 'Unnamed: 4'], axis=1, inplace=True)\n",
    "#data.drop(['class'], axis=1, inplace=True)\n"
   ]
  },
  {
   "cell_type": "code",
   "execution_count": null,
   "metadata": {},
   "outputs": [],
   "source": [
    "data.head()"
   ]
  },
  {
   "cell_type": "code",
   "execution_count": null,
   "metadata": {},
   "outputs": [],
   "source": [
    "data.rename(columns={'Category': 'class','Message':'message'}, inplace=True)"
   ]
  },
  {
   "cell_type": "code",
   "execution_count": null,
   "metadata": {},
   "outputs": [],
   "source": [
    "data['class']=data['class'].map({'ham':0, 'spam':1})"
   ]
  },
  {
   "cell_type": "code",
   "execution_count": null,
   "metadata": {},
   "outputs": [],
   "source": [
    "data.head()"
   ]
  },
  {
   "cell_type": "code",
   "execution_count": null,
   "metadata": {},
   "outputs": [],
   "source": [
    "data.dropna(inplace=True)  "
   ]
  },
  {
   "cell_type": "code",
   "execution_count": null,
   "metadata": {},
   "outputs": [],
   "source": [
    "# Remove duplicates\n",
    "data.drop_duplicates(inplace=True)"
   ]
  },
  {
   "cell_type": "code",
   "execution_count": null,
   "metadata": {},
   "outputs": [],
   "source": [
    "data['message'] = data['message'].str.lower()\n",
    "data.head()"
   ]
  },
  {
   "cell_type": "code",
   "execution_count": null,
   "metadata": {},
   "outputs": [],
   "source": [
    "import re\n",
    "import nltk\n",
    "nltk.download('punkt')\n",
    "nltk.download('wordnet')\n",
    "nltk.download('punkt_tab')\n",
    "from nltk.corpus import stopwords\n",
    "from nltk.tokenize import word_tokenize\n",
    "from nltk.stem import WordNetLemmatizer\n",
    "\n",
    "\n",
    "\n",
    "# Handle missing values\n",
    "data.dropna(inplace=True)  # Drop rows with missing values\n",
    "\n",
    "# Remove duplicates\n",
    "data.drop_duplicates(inplace=True)\n",
    "\n",
    "# Initialize the lemmatizer\n",
    "lemmatizer = WordNetLemmatizer()\n",
    "\n",
    "# Download NLTK resources (run this once)\n",
    "nltk.download('punkt')\n",
    "nltk.download('stopwords')\n",
    "nltk.download('wordnet')\n",
    "\n",
    "# Function to clean and lemmatize text\n",
    "def preprocess_text(text):\n",
    "    # Remove punctuation and special characters\n",
    "    text = re.sub(r'[^\\w\\s]', '', text)\n",
    "    # Tokenization\n",
    "    tokens = word_tokenize(text.lower())  # Lowercase during tokenization\n",
    "    # Remove stop words and lemmatize\n",
    "    tokens = [lemmatizer.lemmatize(word) for word in tokens if word not in stopwords.words('english')]\n",
    "    return ' '.join(tokens)\n",
    "\n",
    "# Apply the preprocessing function to the message column\n",
    "data['message'] = data['message'].apply(preprocess_text)\n",
    "\n",
    "# Display the processed dataframe\n",
    "print(data.head())"
   ]
  },
  {
   "cell_type": "code",
   "execution_count": null,
   "metadata": {},
   "outputs": [],
   "source": [
    "from sklearn.model_selection import train_test_split"
   ]
  },
  {
   "cell_type": "code",
   "execution_count": null,
   "metadata": {},
   "outputs": [],
   "source": [
    "X=data['message']\n",
    "y=data['class']"
   ]
  },
  {
   "cell_type": "code",
   "execution_count": null,
   "metadata": {},
   "outputs": [],
   "source": [
    "X.shape"
   ]
  },
  {
   "cell_type": "code",
   "execution_count": null,
   "metadata": {},
   "outputs": [],
   "source": [
    "y.shape"
   ]
  },
  {
   "cell_type": "code",
   "execution_count": null,
   "metadata": {},
   "outputs": [],
   "source": [
    "data.isnull().sum()"
   ]
  },
  {
   "cell_type": "code",
   "execution_count": null,
   "metadata": {},
   "outputs": [],
   "source": [
    "# from sklearn.feature_extraction.text import CountVectorizer\n",
    "# cv=CountVectorizer()"
   ]
  },
  {
   "cell_type": "code",
   "execution_count": null,
   "metadata": {},
   "outputs": [],
   "source": [
    "from sklearn.feature_extraction.text import TfidfVectorizer\n",
    "\n",
    "cv= TfidfVectorizer(\n",
    "            max_features=3000,  # Slightly reduced feature set\n",
    "            ngram_range=(1, 2),  # Unigrams and bigrams\n",
    "            stop_words='english',\n",
    "            lowercase=True\n",
    "        )\n"
   ]
  },
  {
   "cell_type": "code",
   "execution_count": null,
   "metadata": {},
   "outputs": [],
   "source": [
    "x_train, x_test, y_train, y_test = train_test_split(X, y, test_size=0.2, random_state=42, stratify=y)\n",
    "x_train = cv.fit_transform(x_train)\n",
    "x_test = cv.transform(x_test)"
   ]
  },
  {
   "cell_type": "code",
   "execution_count": null,
   "metadata": {},
   "outputs": [],
   "source": [
    "#x_train, x_test,y_train, y_test=train_test_split(X,y, test_size=0.2, random_state=42,stratify=y)\n",
    "\n"
   ]
  },
  {
   "cell_type": "code",
   "execution_count": null,
   "metadata": {},
   "outputs": [],
   "source": [
    "from sklearn.naive_bayes import MultinomialNB\n",
    "from sklearn.linear_model import LogisticRegression\n",
    "from sklearn.ensemble import RandomForestClassifier\n",
    "from sklearn.metrics import accuracy_score\n",
    "import pickle\n",
    "from sklearn.metrics import precision_score, recall_score, f1_score\n",
    "\n",
    "\n",
    "# Train Naive Bayes model\n",
    "nb_model = MultinomialNB(alpha=0.1)\n",
    "nb_model.fit(x_train, y_train)\n",
    "\n",
    "# Train Logistic Regression model\n",
    "lr_model = LogisticRegression(max_iter=1000)\n",
    "lr_model.fit(x_train, y_train)\n",
    "\n",
    "# Train Random Forest model\n",
    "rf_model = RandomForestClassifier(n_estimators=100, random_state=42)\n",
    "rf_model.fit(x_train, y_train)\n",
    "\n",
    "# Predictions and accuracy evaluation for Naive Bayes\n",
    "y_pred_nb = nb_model.predict(x_test)\n",
    "accuracy_nb = accuracy_score(y_test, y_pred_nb)\n",
    "print(f\"Multinomial Naive Bayes Model Accuracy: {accuracy_nb:.2f}\")\n",
    "precision_nb = precision_score(y_test, y_pred_nb)\n",
    "print(f\"Multinomial Naive Bayes Model Precision: {precision_nb:.2f}\")\n",
    "recall_nb = recall_score(y_test, y_pred_nb)\n",
    "print(f\"Multinomial Naive Bayes Model Recall: {recall_nb:.2f}\")\n",
    "f1_nb = f1_score(y_test, y_pred_nb)\n",
    "print(f\"Multinomial Naive Bayes Model F1: {f1_nb:.2f}\")\n",
    "\n",
    "# Predictions and accuracy evaluation for Logistic Regression\n",
    "y_pred_lr = lr_model.predict(x_test)\n",
    "accuracy_lr = accuracy_score(y_test, y_pred_lr)\n",
    "print(f\"Logistic Regression Model Accuracy: {accuracy_lr:.2f}\")\n",
    "precision_lr = precision_score(y_test, y_pred_lr)\n",
    "print(f\"Logistic Regression Model Accuracy: {precision_lr:.2f}\")\n",
    "recall_lr = recall_score(y_test, y_pred_lr)\n",
    "print(f\"Logistic Regression Model Accuracy: {recall_lr:.2f}\")\n",
    "f1_lr = f1_score(y_test, y_pred_lr)\n",
    "print(f\"Logistic Regression Model Accuracy: {f1_lr:.2f}\")\n",
    "\n",
    "# Predictions and accuracy evaluation for Random Forest\n",
    "y_pred_rf = rf_model.predict(x_test)\n",
    "accuracy_rf = accuracy_score(y_test, y_pred_rf)\n",
    "print(f\"Random Forest Model Accuracy: {accuracy_rf:.2f}\")\n",
    "precision_rf = precision_score(y_test, y_pred_rf)\n",
    "print(f\"Random Forest Model Accuracy: {precision_rf:.2f}\")\n",
    "recall_rf = recall_score(y_test, y_pred_rf)\n",
    "print(f\"Random Forest Model Accuracy: {recall_rf:.2f}\")\n",
    "f1_rf = f1_score(y_test, y_pred_rf)\n",
    "print(f\"Random Forest Model Accuracy: {f1_rf:.2f}\")\n",
    "# Save the models and vectorizer\n",
    "# with open('spam_nb.pkl', 'wb') as nb_file:\n",
    "#     pickle.dump(nb_model, nb_file)\n",
    "pickle.dump(nb_model, open('spam_nb.pkl','wb'))\n",
    "\n",
    "# with open('spam_lr.pkl', 'wb') as lr_file:\n",
    "#     pickle.dump(lr_model, lr_file)\n",
    "pickle.dump(lr_model, open('spam_lr.pkl','wb'))\n",
    "\n",
    "# with open('spam_rf.pkl', 'wb') as rf_file:\n",
    "#     pickle.dump(rf_model, rf_file)\n",
    "pickle.dump(rf_model, open('spam_rf.pkl','wb'))\n",
    "\n",
    "\n",
    "# with open('vectorizer.pkl', 'wb') as vectorizer_file:\n",
    "#     pickle.dump(cv, vectorizer_file)  \n",
    "pickle.dump(cv, open('vectorizer.pkl','wb'))  "
   ]
  },
  {
   "cell_type": "code",
   "execution_count": null,
   "metadata": {},
   "outputs": [],
   "source": [
    "%pip install wordcloud\n",
    "\n",
    "import pandas as pd\n",
    "from wordcloud import WordCloud\n",
    "import matplotlib.pyplot as plt\n",
    "\n",
    "data = pd.read_csv('spam_data_set.csv', encoding='latin-1')\n",
    "data.rename(columns={'Category': 'class', 'Message': 'message'}, inplace=True)\n",
    "data['class'] = data['class'].map({'ham': 0, 'spam': 1})\n",
    "\n",
    "spam_messages = data[data['class'] == 1]['message']\n",
    "ham_messages = data[data['class'] == 0]['message']\n",
    "\n",
    "spam_wordcloud = WordCloud(width=800, height=400, background_color='white').generate(' '.join(spam_messages))\n",
    "ham_wordcloud = WordCloud(width=800, height=400, background_color='white').generate(' '.join(ham_messages))\n",
    "\n",
    "plt.figure(figsize=(10, 5))\n",
    "plt.subplot(1, 2, 1)\n",
    "plt.imshow(spam_wordcloud, interpolation='bilinear')\n",
    "plt.title('Spam Emails Word Cloud')\n",
    "plt.axis('off')\n",
    "\n",
    "plt.subplot(1, 2, 2)\n",
    "plt.imshow(ham_wordcloud, interpolation='bilinear')\n",
    "plt.title('Ham Emails Word Cloud')\n",
    "plt.axis('off')\n",
    "\n",
    "plt.show()"
   ]
  },
  {
   "cell_type": "code",
   "execution_count": null,
   "metadata": {},
   "outputs": [],
   "source": [
    "%pip install seaborn\n",
    "\n",
    "import matplotlib.pyplot as plt\n",
    "import seaborn as sns\n",
    "\n",
    "data = pd.read_csv('spam_data_set.csv', encoding='latin-1')\n",
    "data.rename(columns={'Category': 'class', 'Message': 'message'}, inplace=True)\n",
    "data['class'] = data['class'].map({'ham': 0, 'spam': 1})\n",
    "\n",
    "plt.figure(figsize=(8, 6))\n",
    "sns.countplot(x='class', data=data, palette='viridis')\n",
    "plt.title('Distribution of Spam vs. Ham Emails')\n",
    "plt.xlabel('Class')\n",
    "plt.ylabel('Count')\n",
    "plt.xticks(ticks=[0, 1], labels=['Ham', 'Spam'])\n",
    "plt.show()"
   ]
  },
  {
   "cell_type": "code",
   "execution_count": null,
   "metadata": {},
   "outputs": [],
   "source": []
  }
 ],
 "metadata": {
  "kernelspec": {
   "display_name": "Python 3",
   "language": "python",
   "name": "python3"
  },
  "language_info": {
   "codemirror_mode": {
    "name": "ipython",
    "version": 3
   },
   "file_extension": ".py",
   "mimetype": "text/x-python",
   "name": "python",
   "nbconvert_exporter": "python",
   "pygments_lexer": "ipython3",
   "version": "3.10.15"
  }
 },
 "nbformat": 4,
 "nbformat_minor": 4
}
